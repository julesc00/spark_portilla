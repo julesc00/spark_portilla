{
 "cells": [
  {
   "cell_type": "code",
   "execution_count": 12,
   "id": "2db1dc03",
   "metadata": {},
   "outputs": [],
   "source": [
    "from datetime import datetime, date\n",
    "from pyspark.sql.functions import to_date, to_timestamp, lit\n",
    "from pyspark.sql import Row\n",
    "from pyspark.sql import SparkSession\n",
    "\n",
    "import pandas as pd\n",
    "\n",
    "spark = SparkSession.builder.getOrCreate()"
   ]
  },
  {
   "cell_type": "code",
   "execution_count": 7,
   "id": "8f70422b",
   "metadata": {},
   "outputs": [
    {
     "name": "stdout",
     "output_type": "stream",
     "text": [
      "+-------------------+\n",
      "|          Christmas|\n",
      "+-------------------+\n",
      "|2022-03-01 11:30:00|\n",
      "+-------------------+\n",
      "\n"
     ]
    }
   ],
   "source": [
    "df = spark.createDataFrame([(\"2022-03-01 11:30:00\",)], [\"Christmas\"])\n",
    "df.show(1)"
   ]
  },
  {
   "cell_type": "code",
   "execution_count": 10,
   "id": "bcc1d921",
   "metadata": {},
   "outputs": [
    {
     "name": "stdout",
     "output_type": "stream",
     "text": [
      "+---+---+----+----------+-------------------+\n",
      "|  a|  b|   c|         d|                  e|\n",
      "+---+---+----+----------+-------------------+\n",
      "|  1|4.0|GFG1|2000-08-01|2000-08-01 12:00:00|\n",
      "|  2|8.0|GFG2|2022-03-02|2022-02-25 12:00:00|\n",
      "|  4|5.0|GFG3|2022-01-01|2022-03-01 12:00:00|\n",
      "+---+---+----+----------+-------------------+\n",
      "\n",
      "root\n",
      " |-- Christmas: string (nullable = true)\n",
      "\n"
     ]
    }
   ],
   "source": [
    "df2 = spark.createDataFrame([\n",
    "    Row(a=1, b=4., c=\"GFG1\", d=date(2000, 8, 1), e=datetime(2000, 8, 1, 12, 0)),\n",
    "    Row(a=2, b=8., c=\"GFG2\", d=date(2022, 3, 2), e=datetime(2022, 2, 25, 12, 0)),\n",
    "    Row(a=4, b=5., c=\"GFG3\", d=date(2022, 1, 1), e=datetime(2022, 3, 1, 12, 0))\n",
    "])\n",
    "df2.show()\n",
    "df.printSchema()"
   ]
  },
  {
   "cell_type": "code",
   "execution_count": 13,
   "id": "8f33bd1c",
   "metadata": {},
   "outputs": [
    {
     "data": {
      "text/plain": [
       "DataFrame[Gender: string, Age: bigint, openness: bigint, neuroticism: bigint, conscientiousness: bigint, agreeableness: bigint, extraversion: bigint, Personality (Class label): string]"
      ]
     },
     "execution_count": 13,
     "metadata": {},
     "output_type": "execute_result"
    }
   ],
   "source": [
    "df3 = spark.createDataFrame(pd.read_csv(\"train_dataset-1.csv\"))\n",
    "df3"
   ]
  },
  {
   "cell_type": "code",
   "execution_count": 14,
   "id": "55914d2a",
   "metadata": {},
   "outputs": [
    {
     "name": "stdout",
     "output_type": "stream",
     "text": [
      "root\n",
      " |-- Gender: string (nullable = true)\n",
      " |-- Age: long (nullable = true)\n",
      " |-- openness: long (nullable = true)\n",
      " |-- neuroticism: long (nullable = true)\n",
      " |-- conscientiousness: long (nullable = true)\n",
      " |-- agreeableness: long (nullable = true)\n",
      " |-- extraversion: long (nullable = true)\n",
      " |-- Personality (Class label): string (nullable = true)\n",
      "\n"
     ]
    }
   ],
   "source": [
    "df3.printSchema()"
   ]
  },
  {
   "cell_type": "code",
   "execution_count": 15,
   "id": "985ba0e5",
   "metadata": {},
   "outputs": [
    {
     "name": "stdout",
     "output_type": "stream",
     "text": [
      "+---+---+----+----------+----------+\n",
      "|  a|  b|   c|         d|         e|\n",
      "+---+---+----+----------+----------+\n",
      "|  1|  4|GFG1|9650880000|9653123000|\n",
      "|  2|  8|GFG2|9599040000|9534000000|\n",
      "|  3|  5|GFG3|9573120000|9573000000|\n",
      "+---+---+----+----------+----------+\n",
      "\n",
      "root\n",
      " |-- a: long (nullable = true)\n",
      " |-- b: long (nullable = true)\n",
      " |-- c: string (nullable = true)\n",
      " |-- d: long (nullable = true)\n",
      " |-- e: long (nullable = true)\n",
      "\n"
     ]
    }
   ],
   "source": [
    "df4 = spark.createDataFrame(pd.read_json(\"data.json\"))\n",
    "df4\n",
    "df4.show()\n",
    "df4.printSchema()"
   ]
  },
  {
   "cell_type": "code",
   "execution_count": null,
   "id": "ea8d4257",
   "metadata": {},
   "outputs": [],
   "source": []
  }
 ],
 "metadata": {
  "kernelspec": {
   "display_name": "Python 3 (ipykernel)",
   "language": "python",
   "name": "python3"
  },
  "language_info": {
   "codemirror_mode": {
    "name": "ipython",
    "version": 3
   },
   "file_extension": ".py",
   "mimetype": "text/x-python",
   "name": "python",
   "nbconvert_exporter": "python",
   "pygments_lexer": "ipython3",
   "version": "3.10.0"
  }
 },
 "nbformat": 4,
 "nbformat_minor": 5
}
